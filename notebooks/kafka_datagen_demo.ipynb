{
 "cells": [
  {
   "cell_type": "markdown",
   "metadata": {},
   "source": [
    "# Kafka Datagen + Spark Demo\n",
    "\n",
    "This notebook shows how to:\n",
    "1. Consume messages from the Kafka topic `orders` using `confluent-kafka`.\n",
    "2. Read the same topic as a structured stream in PySpark."
   ]
  },
  {
   "cell_type": "code",
   "execution_count": null,
   "metadata": {},
   "outputs": [],
   "source": [
    "from confluent_kafka import Consumer\n",
    "import json\n",
    "\n",
    "conf = {\n",
    "    'bootstrap.servers': 'kafka:29092',\n",
    "    'group.id': 'notebook-demo',\n",
    "    'auto.offset.reset': 'earliest'\n",
    "}\n",
    "\n",
    "c = Consumer(conf)\n",
    "c.subscribe(['orders'])\n",
    "\n",
    "messages = []\n",
    "for _ in range(5):\n",
    "    msg = c.poll(5)\n",
    "    if msg and not msg.error():\n",
    "        messages.append(json.loads(msg.value().decode()))\n",
    "c.close()\n",
    "\n",
    "messages"
   ]
  },
  {
   "cell_type": "code",
   "execution_count": null,
   "id": "66649391",
   "metadata": {},
   "outputs": [],
   "source": [
    "from pyspark.sql import SparkSession\n",
    "\n",
    "spark = SparkSession.builder \\\n",
    "    .appName(\"KafkaStructuredStreaming\") \\\n",
    "    .config(\"spark.jars.packages\", \"org.apache.spark:spark-sql-kafka-0-10_2.12:3.5.1\") \\\n",
    "    .getOrCreate()\n",
    "\n",
    "spark.sparkContext.setLogLevel(\"WARN\")\n",
    "\n",
    "df = (spark.readStream\n",
    "      .format(\"kafka\")\n",
    "      .option(\"kafka.bootstrap.servers\", \"kafka:29092\")\n",
    "      .option(\"subscribe\", \"orders\")\n",
    "      .option(\"startingOffsets\", \"latest\")\n",
    "      .load())\n",
    "\n",
    "# Kafka data comes in key and value as bytes, convert to string\n",
    "df_str = df.selectExpr(\"CAST(key AS STRING)\", \"CAST(value AS STRING)\")\n",
    "\n",
    "# Write stream to console (for testing)\n",
    "query = (df_str.writeStream\n",
    "         .format(\"console\")\n",
    "         .outputMode(\"append\")\n",
    "         .option(\"truncate\", False)\n",
    "         .start())\n",
    "\n",
    "query.awaitTermination()"
   ]
  },
  {
   "cell_type": "markdown",
   "metadata": {},
   "source": [
    "Now you should see a bar chart with the counts of each product from the Datagen stream."
   ]
  }
 ],
 "metadata": {
  "kernelspec": {
   "display_name": "Python 3",
   "language": "python",
   "name": "python3"
  },
  "language_info": {
   "codemirror_mode": {
    "name": "ipython",
    "version": 3
   },
   "file_extension": ".py",
   "mimetype": "text/x-python",
   "name": "python",
   "nbconvert_exporter": "python",
   "pygments_lexer": "ipython3",
   "version": "3.11.13"
  }
 },
 "nbformat": 4,
 "nbformat_minor": 5
}
